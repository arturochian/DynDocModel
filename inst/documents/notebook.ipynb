{
 "metadata": {
  "name": "Untitled0"
 },
 "nbformat": 3,
 "nbformat_minor": 0,
 "worksheets": [
  {
   "cells": [
    {
     "cell_type": "raw",
     "metadata": {},
     "source": "Wow some text found its way into my notebook!"
    },
    {
     "cell_type": "code",
     "collapsed": false,
     "input": "%load_ext rmagic",
     "language": "python",
     "metadata": {},
     "outputs": [
     ],
     "prompt_number": 1
    },
   {
     "cell_type": "raw",
     "metadata": {},
     "source": "More text is here!"
    },
    {
     "cell_type": "code",
     "collapsed": false,
     "input": "%%R\nx=10\nplot(1:x)",
     "language": "python",
     "metadata": {},
     "outputs": []
    },
   {
     "cell_type": "code",
     "collapsed": false,
     "input": "print \"different print!\"",
     "language": "python",
     "metadata": {},
     "outputs": [
      {
       "output_type": "stream",
       "stream": "stdout",
       "text": "yo yo yo!\n"
      }
     ],
     "prompt_number": 1
    },
   {
     "cell_type": "raw",
     "metadata": {},
     "source": "different text is here!"
    },
    {
     "cell_type": "code",
     "collapsed": false,
     "input": "%%R\nplot(rnorm(14))",
     "language": "python",
     "metadata": {},
     "outputs": []
    },
   {
     "cell_type": "raw",
     "metadata": {},
     "source": "Even more text."
    }
   ],
   "metadata": {}
  }
 ]
}