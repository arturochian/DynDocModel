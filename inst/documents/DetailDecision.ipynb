{
 "metadata": {
  "name": ""
 },
 "nbformat": 3,
 "nbformat_minor": 0,
 "worksheets": [
  {
   "cells": [
    {
     "cell_type": "code",
     "collapsed": false,
     "input": [
      "%load_ext rmagic"
     ],
     "language": "python",
     "metadata": {},
     "outputs": [],
     "prompt_number": 1
    },
    {
     "cell_type": "code",
     "collapsed": false,
     "input": [
      "print(\"well, is it?\")"
     ],
     "language": "python",
     "metadata": {},
     "outputs": [
      {
       "output_type": "stream",
       "stream": "stdout",
       "text": [
        "well, is it?\n"
       ]
      }
     ],
     "prompt_number": 2
    },
    {
     "cell_type": "altset",
     "cells": [
      {
       "cell_type": "alt",
       "cells": [
        {
         "cell_type": "code",
         "collapsed": false,
         "input": "print(\"I will research at the library\")",
         "language": "python",
         "metadata": {},
         "outputs": []
        }
       ],
       "metadata": {},
       "most_recent": false
      },
      {
       "cell_type": "alt",
       "cells": [
        {
         "cell_type": "code",
         "collapsed": false,
         "input": "print(\"Google will know\")",
         "language": "python",
         "metadata": {},
         "outputs": [
          {
           "output_type": "stream",
           "stream": "stdout",
           "text": "Google will know\n"
          }
         ],
         "prompt_number": 6
        }
       ],
       "metadata": {},
       "most_recent": true
      }
     ],
     "metadata": {
      "dyndocmodel": {
       "detail": 2
      }
     }
    },
    {
     "cell_type": "task",
     "cells": [
      {
       "cell_type": "markdown",
       "metadata": {},
       "source": "It is my task to learn more!"
      },
      {
       "cell_type": "altset",
       "cells": [
        {
         "cell_type": "alt",
         "cells": [
          {
           "cell_type": "markdown",
           "metadata": {},
           "source": "I have learned more"
          }
         ],
         "metadata": {},
         "most_recent": false
        },
        {
         "cell_type": "alt",
         "cells": [
          {
           "cell_type": "markdown",
           "metadata": {},
           "source": "I have not learned more"
          }
         ],
         "metadata": {},
         "most_recent": true
        }
       ],
       "metadata": {}
      }
     ],
     "metadata": {
      "dyndocmodel": {
       "detail": 2
      }
     }
    },
    {
     "cell_type": "altset",
     "cells": [
      {
       "cell_type": "alt",
       "cells": [
        {
         "cell_type": "code",
         "collapsed": false,
         "input": "print(\"Yes\")",
         "language": "python",
         "metadata": {},
         "outputs": [
          {
           "output_type": "stream",
           "stream": "stdout",
           "text": "more stuff here\n"
          }
         ],
         "prompt_number": 5
        }
       ],
       "metadata": {},
       "most_recent": false
      },
      {
       "cell_type": "alt",
       "cells": [
        {
         "cell_type": "code",
         "collapsed": false,
         "input": "print(\"No\")",
         "language": "python",
         "metadata": {},
         "outputs": [
          {
           "output_type": "stream",
           "stream": "stdout",
           "text": "more stuff here\n"
          }
         ],
         "prompt_number": 5
        }
       ],
       "metadata": {},
       "most_recent": false
      }
     ],
     "metadata": {}
    }
   ],
   "metadata": {}
  }
 ]
}