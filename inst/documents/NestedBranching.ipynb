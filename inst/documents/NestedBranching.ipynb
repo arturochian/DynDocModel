{
 "metadata": {
  "name": ""
 },
 "nbformat": 3,
 "nbformat_minor": 0,
 "worksheets": [
  {
   "cells": [
    {
     "cell_type": "code",
     "collapsed": false,
     "input": [
      "%load_ext rmagic"
     ],
     "language": "python",
     "metadata": {},
     "outputs": [
      {
       "output_type": "stream",
       "stream": "stdout",
       "text": [
        "The rmagic extension is already loaded. To reload it, use:\n",
        "  %reload_ext rmagic\n"
       ]
      }
     ],
     "prompt_number": 6
    },
    {
     "cell_type": "code",
     "collapsed": false,
     "input": [
      "%%R\n",
      "set.seed(0)"
     ],
     "language": "python",
     "metadata": {},
     "outputs": []
    },
    {
     "cell_type": "altset",
     "cells": [
      {
       "cell_type": "alt",
       "cells": [
        {
         "cell_type": "markdown",
         "metadata": {},
         "source": "Here is my first branch"
        },
        {
         "cell_type": "altset",
         "cells": [
          {
           "cell_type": "alt",
           "cells": [
            {
             "cell_type": "code",
             "collapsed": false,
             "input": "%%R\nx = rnorm(50)",
             "language": "python",
             "metadata": {},
             "outputs": [],
             "prompt_number": 11
            }
           ],
           "metadata": {},
           "most_recent": false
          },
          {
           "cell_type": "alt",
           "cells": [
            {
             "cell_type": "code",
             "collapsed": false,
             "input": "%%R\nx = rnorm(50, sd=.5)",
             "language": "python",
             "metadata": {},
             "outputs": [],
             "prompt_number": 12
            }
           ],
           "metadata": {},
           "most_recent": true
          }
         ],
         "metadata": {}
        },
        {
         "cell_type": "markdown",
         "metadata": {},
         "source": "wooo"
        }
       ],
       "metadata": {},
       "most_recent": false
      },
      {
       "cell_type": "alt",
       "cells": [
        {
         "cell_type": "markdown",
         "metadata": {},
         "source": "Second Branch"
        },
        {
         "cell_type": "altset",
         "cells": [
          {
           "cell_type": "alt",
           "cells": [
            {
             "cell_type": "code",
             "collapsed": false,
             "input": "%%R\nx = runif(50)",
             "language": "python",
             "metadata": {},
             "outputs": []
            }
           ],
           "metadata": {},
           "most_recent": false
          },
          {
           "cell_type": "alt",
           "cells": [
            {
             "cell_type": "code",
             "collapsed": false,
             "input": "%%R\nx = runif(50, -1, 1)^2",
             "language": "python",
             "metadata": {},
             "outputs": [],
             "prompt_number": 19
            },
            {
             "cell_type": "code",
             "collapsed": false,
             "input": "%%R\nmean(x)",
             "language": "python",
             "metadata": {},
             "outputs": [
              {
               "metadata": {},
               "output_type": "display_data",
               "text": "[1] 0.3539058\n"
              }
             ],
             "prompt_number": 20
            }
           ],
           "metadata": {},
           "most_recent": true
          }
         ],
         "metadata": {}
        },
        {
         "cell_type": "markdown",
         "metadata": {},
         "source": "woo2"
        }
       ],
       "metadata": {},
       "most_recent": true
      }
     ],
     "metadata": {}
    },
    {
     "cell_type": "markdown",
     "metadata": {},
     "source": [
      "some more stuff"
     ]
    },
    {
     "cell_type": "altset",
     "cells": [
      {
       "cell_type": "alt",
       "cells": [
        {
         "cell_type": "markdown",
         "metadata": {},
         "source": "Hello again from set2branch1"
        },
        {
         "cell_type": "code",
         "collapsed": false,
         "input": "%%R\ny = rnorm(50, -x, .3)",
         "language": "python",
         "metadata": {},
         "outputs": [],
         "prompt_number": 13
        }
       ],
       "metadata": {},
       "most_recent": false
      },
      {
       "cell_type": "alt",
       "cells": [
        {
         "cell_type": "markdown",
         "metadata": {},
         "source": "I'm in set2branch2"
        },
        {
         "cell_type": "code",
         "collapsed": false,
         "input": "%%R\ny = rnorm(50, x, .3)",
         "language": "python",
         "metadata": {},
         "outputs": [],
         "prompt_number": 21
        }
       ],
       "metadata": {},
       "most_recent": true
      }
     ],
     "metadata": {}
    },
    {
     "cell_type": "code",
     "collapsed": false,
     "input": [
      "%%R\n",
      "plot(x,y)"
     ],
     "language": "python",
     "metadata": {},
     "outputs": [
      {
       "metadata": {},
       "output_type": "display_data",
       "png": "[encoded data removed]"
      }
     ],
     "prompt_number": 22
    },
    {
     "cell_type": "code",
     "collapsed": false,
     "input": [
      "%%R\n",
      "mean(x+y)"
     ],
     "language": "python",
     "metadata": {},
     "outputs": []
    }
   ],
   "metadata": {}
  }
 ]
}