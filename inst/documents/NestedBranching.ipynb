{
 "metadata": {
  "name": ""
 },
 "nbformat": 3,
 "nbformat_minor": 0,
 "worksheets": [
  {
   "cells": [
    {
     "cell_type": "code",
     "collapsed": false,
     "input": [
      "%load_ext rmagic"
     ],
     "language": "python",
     "metadata": {},
     "outputs": [
      {
       "output_type": "stream",
       "stream": "stdout",
       "text": [
        "The rmagic extension is already loaded. To reload it, use:\n",
        "  %reload_ext rmagic\n"
       ]
      }
     ],
     "prompt_number": 6
    },
    {
     "cell_type": "altset",
     "cells": [
      {
       "cell_type": "alt",
       "cells": [
        {
         "cell_type": "markdown",
         "metadata": {},
         "source": "Here is my first branch"
        },
        {
         "cell_type": "altset",
         "cells": [
          {
           "cell_type": "alt",
           "cells": [
            {
             "cell_type": "code",
             "collapsed": false,
             "input": "%%R\nplot(rnorm(10))",
             "language": "python",
             "metadata": {},
             "outputs": [
              {
               "metadata": {},
               "output_type": "display_data",
               "png": "iVBORw0KGgoAAAANSUhEUgAAAeAAAAHgCAMAAABKCk6nAAAC3FBMVEUAAAABAQECAgIDAwMEBAQF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\nTWi+rZwAAAAASUVORK5CYII=\n"
              }
             ],
             "prompt_number": 7
            },
            {
             "cell_type": "code",
             "collapsed": false,
             "input": "",
             "language": "python",
             "metadata": {},
             "outputs": [],
             "prompt_number": 7
            }
           ],
           "metadata": {},
           "most_recent": true
          },
          {
           "cell_type": "alt",
           "cells": [
            {
             "cell_type": "code",
             "collapsed": false,
             "input": "%%R\nplot(rnorm(50))",
             "language": "python",
             "metadata": {},
             "outputs": []
            }
           ],
           "metadata": {},
           "most_recent": false
          }
         ],
         "metadata": {}
        },
        {
         "cell_type": "markdown",
         "metadata": {},
         "source": "wooo"
        }
       ],
       "metadata": {},
       "most_recent": true
      },
      {
       "cell_type": "alt",
       "cells": [
        {
         "cell_type": "markdown",
         "metadata": {},
         "source": "Second Branch"
        },
        {
         "cell_type": "altset",
         "cells": [
          {
           "cell_type": "alt",
           "cells": [
            {
             "cell_type": "code",
             "collapsed": false,
             "input": "plot(runif(10))",
             "language": "python",
             "metadata": {},
             "outputs": []
            }
           ],
           "metadata": {},
           "most_recent": false
          },
          {
           "cell_type": "alt",
           "cells": [
            {
             "cell_type": "code",
             "collapsed": false,
             "input": "%%R\nplot(runif(50))",
             "language": "python",
             "metadata": {},
             "outputs": [
              {
               "metadata": {},
               "output_type": "display_data",
               "png": "iVBORw0KGgoAAAANSUhEUgAAAeAAAAHgCAMAAABKCk6nAAAC/VBMVEUAAAABAQECAgIDAwMEBAQF\nBQUGBgYHBwcICAgJCQkKCgoLCwsMDAwNDQ0ODg4PDw8QEBARERESEhITExMUFBQVFRUWFhYXFxcZ\nGRkaGhobGxscHBwdHR0eHh4fHx8gICAhISEiIiIjIyMkJCQlJSUmJiYnJycoKCgpKSkqKiorKyss\nLCwtLS0uLi4vLy8wMDAxMTEyMjIzMzM0NDQ1NTU2NjY3Nzc4ODg5OTk6Ojo7Ozs8PDw9PT0+Pj4/\nPz9AQEBBQUFCQkJDQ0NERERFRUVGRkZHR0dISEhJSUlKSkpLS0tMTExNTU1OTk5PT09QUFBRUVFS\nUlJTU1NUVFRVVVVWVlZXV1dYWFhZWVlaWlpbW1tcXFxdXV1eXl5fX19gYGBhYWFiYmJjY2NkZGRl\nZWVmZmZnZ2doaGhpaWlqampra2tsbGxtbW1ubm5vb29wcHBxcXFycnJzc3N0dHR1dXV2dnZ3d3d4\neHh5eXl6enp7e3t8fHx9fX1+fn5/f3+AgICBgYGCgoKDg4OEhISFhYWGhoaHh4eIiIiJiYmKioqL\ni4uMjIyNjY2Ojo6Pj4+QkJCRkZGSkpKTk5OUlJSVlZWWlpaXl5eYmJiZmZmampqbm5ucnJydnZ2e\nnp6fn5+goKChoaGioqKjo6OkpKSlpaWmpqanp6eoqKipqamqqqqrq6usrKytra2urq6vr6+wsLCx\nsbGysrKzs7O0tLS1tbW2tra3t7e4uLi5ubm6urq7u7u8vLy9vb2+vr6/v7/AwMDBwcHCwsLDw8PE\nxMTFxcXGxsbHx8fIyMjJycnKysrLy8vMzMzNzc3Ozs7Pz8/Q0NDR0dHS0tLT09PU1NTV1dXW1tbX\n19fY2NjZ2dna2trb29vc3Nzd3d3e3t7f39/g4ODh4eHi4uLj4+Pk5OTl5eXm5ubn5+fo6Ojp6enq\n6urr6+vs7Ozt7e3u7u7v7+/w8PDx8fHy8vLz8/P09PT19fX29vb39/f4+Pj5+fn6+vr7+/v8/Pz9\n/f3+/v7///+glEurAAAZAklEQVR4nO2deVxU5d7AKW96swW73t63rHzfeyu79fZaebvKDsMyoOCO\ne2q4lEsuud1ywTSVJCX3UDM1SwUzN7IMEzBBpdwTc0ERFxBEQBEGZub53HPGJZsZZs7ynHOe85vf\n949HZ845v+cHX2bmOc+c8/y8CAIaL60TQJQFBQMHBQMHBQMHBQMHBQMHBQMHBQMHBQMHBQMHBQMH\nBQMHBQMHBQMHBQMHBQMHBQMHBQMHBQMHBQMHBQMHBQMHBQMHBQMHBQMHBQMHBQMHBQMHBQMHBQMH\nBQMHBQMHBQMHBQMHBQMHBQMHBQMHBQMHBQMHBQMHBQMHBQMHBQMHBQMHBQMHBQMHBQMHBQMHBQMH\nBQMHBQMHBQMHBQMHBQMHBQMHBQMHBQNHhuDKpcmI9nxhVUrw+l5a/2wIh99pxQQvkn4sQo0BKBg2\nNARbKyxOnkXBTCBbcNWM5xp6NXh2ao39BhTMBLIF9wvLKK0t3R0TZ78BBTOBbMHeF23/VDa134CC\nmUC24FeW2/5JedV+AwpmAtmCc5u/EBvX7aUnf7bfgIKZQP4oui59eUJyep3D8yhYBtcv0opE6zz4\nwta7/712awpl0EzpWXk4tW+37x/i8JYoDVqCUx+6+9+KFBvt2kvPysP5gBvXXPWpdr2TaYifIeqc\n21jKzWSN6i79WA8n1Mw14/e63mniKkLyItzGQsHakp/w4SGHJyP5WaMRR1wfGcI3fc+76wAFa8qu\n0A2bO35p/+yyMWZyMNjs+tAgvunr9j1atuC8O9hvQMECCLnGDal87b+ytSaFR/Rxp24s/xYd7LYH\n2YKjvBo3s2G/AQULwCao5yUph9YMaROkyiBr4DDnz6NgARhuEGJp4+zLOAHU3RSwk3zB6YnOn0fB\nAviu7c6sNxSdEcJBlrYcmTAmS9EOUDBwUDBwUDBw1BVc9V5r32TXF+oidFFXcI+viGkcfo2oJqoK\nrmzHNRaD9JiIaFQVXNCXb91PryH0UPctOqCMkF/6So/pDktyhx47lQuvR9QVvM935CDDFekx3TEk\nobykZ4py8XWIyqdJVdkHJE68CqHSyDXVIcp1oENAnQefHMS3+Bl/L6AEm31uEpIXq3q/LANKMNkc\nNG+Gz1n1+2UYWIJJadqPJg26ZRhgghF7UDBwUDBwUDBwUDBwUDBwUDBw9C7YciBbyNXBnovOBV8O\nGTzSd58KHekWnQvufoCQMh8VOtItOhds++boDbf3UHowOhccwn+7HF2pQk96ReeCF0wwWb98U4WO\ndIvOBVs/9W39voLDaMsig2GSrofpOhesNHNHm6xLBmidhRxQsEtC+NswovT8EkbBLrGN0ntRW5VM\nA1CwS7ocIaTUV+ss5MCU4HO7iqT3pwgXgt+Z4JerdRZyYEiw9c3eM2OmSe9QEcy/5Oj5E5gpwWum\nck1PXb9cGIQhwUOOc803SdJ7RJzAkODJmVyzdI30HhEnMCT4t8ACcsj3mvQewbKuS5evpR7LkGDy\nc8+IQfnSOwTLx6MLC4YtlHgwS4IR5wRYCbEESjyYBcGmmUbj5CrpPQGnqi3fRtRKO5oFwRM+tpLP\nBknvSR+YT+RLXF8opIyQknCJ3bIg2HbHdrhjWQ9QHAgYMThU2qR2dsDcjwOklnBgQLDVJhj6ZRnB\nF/lRpLRjS9auuyq1XwYEkw6HCckPld6THijuxrcarC7BguCzwUOGB/wqvSd31HxoNMZrPKNcxS8f\nYpU6FJYBC4KJ9fRJNwUKZPHuPCtJHqJgB0Lo+yWxTNWglBQTghXG9sYYquSfkABuTjIaFym4wlB9\n0BFc7mSCkRnBZtvHe5SHnmjLFnw8pEtpdKMGIQ5nAMwIJtHHCDkl9TxS78gWHDhsbNPxNTeHd7Df\nwI7gM0FDhwee0DoLjZAt+MGiyvu4EWrJo/Yb2BFMLKdPavDppxSW9e9MdV9O5w6yBT+TnuOVQ8iO\nf9hvYEgwLPp+eCKj9VGhe8sWvPiBRxc/MaC/90b7DShYGU7zv9e83kJ3lz+KPnWJ5M2e5ThPgYKV\n4XvbybTgOTEFCkTfBgUrQyE/nP1F8JdvChSIvhBr4zn3tW0RKUyM+3bFvwqF7q3ATJa5zMaQbhKO\nRQSQm7T6uuCdaQi2Vjg7CcG3aCaQLbhqxnMNvRo8O7XGfgMKZgLZgvuFZZTWlu6OibPf4IGCTQXs\nzafIFux9axK6sqn9Bs8TPDFsQMBarZOwR7bgV5bb/kl51X6DxwlOGc+9hiPPaJ2GHbIF5zZ/ITau\n20tPOlwU5nGCB57imtUrtE7DDvmj6Lr05QnJ6Y7XRHqc4BGHuGYxa+/RnnBFh0rsbl9FCn1KtE7D\nDhRMj1RjeKdftE7CHhQMHBQMHBQMHBQMHBQMHBQMHBQMHBQMHBQMHBQMHBQMHBQMHBQMHBQMHBQM\nHBQMHBQMHBQMHBQMHBQMHBQMHB0IPph6iFIkT4R9wSN6Lxkaq/EydTqGecG7+UUm53xOJZYnwrzg\nOVu45sTbVGJ5IswL/mo+12xXsOLdjY/emlv++8NTY3vN03cxuz/CvODrAWk1e/wFrzkiGlPQqlMb\nWt9dTDXPJ/fKyij27uOWDPOCydUJkcPO0wnljJS5XLN+7p2HQ/kR+9hs5fpTG/YFK0zCdq45NuzO\nQ1vpiCWs3QMqA00FX4+PGvSb9B6osPV9rln06Z2Hk/kacp0BLU2rpWCzccOV/UGuE1Aca58x2+Kj\nTXceVvjP+uqNiTQ7qEwYPK2MZkBxaCk4g/9F5o6S3kW9WPdsuiR45+8/3nTPoKpu+4pjNFOpDvji\nVEqbCoF7l2zNkFk/KrVd+MB7hyxaCl79Gddc7Sy9i/qojJq0MHo1/bhS+HIB38wXtvPWiPnTDbLK\n3Kd1ryK5gabfn9BS8JEeXLP2Q+ld1MeYNEIsIcX0A0tgejrXHBopaN+a1jWE7H9DTnfd+Z964p7f\nn9B0kDW1x6JxShTLsFVYmfkd/cAS2BjPNfOWC9r38Ai+DZbTXVv+1/lR2u9PaHuadHTFDiXmFLpd\n5pqhRxSILB5Lz3HbJrcXVjr0SheuuSlrld4E7nygJuCelWBAngdnRZyvXduOlemo7R9vEZpKn8U1\nxV0d1s4Xg6lHj3cD7y0XDlIwye7bdpbwFXfZoTopptcPMmNcPvKHdWFhCkbugoKhcPLz1c4WYUPB\nQEg1rP70dSfjSo0E231QIHKx+lYTUhjtuEETwXVvxrwbwsZpKhQK+vKtk1NoTQTPWsqfrEmuWo44\nYgrgmipWBEfy18QwMtMEhfjR+Yc7bnJ8XhPBXfnh3r/3So+NOPL1m2/tc/K0JoK39qoi+4JM9W5H\n6EFH8BWRFcDXtw0fpNx1dMg9yBZ8Ivjw+TYNHgh28IXnwUwgW3Dr0TWdh1XXjGpnvwEFM4FswQ8X\nkWdPElLyiP0GFMwEsgVHzrEOWkLImtfsN6BgJpAt+OJrL7S/Pzjovx2G6CiYCeSPoq37P5+9cKvj\n1DJEwRd7GkMn6+tWVqwALgbDIUKSFLwRTgEUqABeEGbjmTDpWdn4MiR4VLn73VSkwHbBo6yL4lSH\n3e+DVw2uImlRVnlB6JJvq6EbonUaomC3Anh4Ndf0Z6qYp5W/z2bNeK3TEAW7FcBtL5QxbJWKOx7Z\n0TigWussRMFuBfBR3xJS4cfahR83Zd46pDrsVgCviO432n+nvBgI0xXAC38VdkMA4gKsAA4crAAO\nHMGCb4pdWwgFM4EgwTeWRf+lUaPHopfdEBEZBTOBEMGLX5z8Y4HFcn7XlJeWCI+MgplAiOB1dy+P\nM60THhkFM4HAz2Dns5EuQcFMIERwvbORLkHBTCBEcL2zkS5BwUwgRHC9s5EuQcFMIERwvbORLkHB\nTCBEcL2zkS5BwUwgaBRd32ykS1AwEwieqnR2+5FLWBdsSQiP6H9R6ywUR4hgYxG54Hv/A6HC1/fk\nYV1w0hQryQln6povJRAi2Oss6d7nhuldccuGsi44lJ+6icvXOg2lESj4bycIKfEWFZl1wbarX4dS\nXTqYRQQJ3lMX8x0hGc+Lisy64HHrCLnso6/bFCQgRHDg042atCSZTZJFRWZdcPWbHfuFHtWs++Mb\n9qry+S9sFG06lU327xYXmXXBhFSKGzVS5aP2i8aHKbCSsgNCBH9395ski4iVcdgXrCH5HbgmRY27\nnIQIntFyzsEKQioOzmk5U3hkFOyC1IVcc8NhVQQFEPQWXZLo3/Dxxxv6Jzpb7bI+GBBcOSVq8Emt\nk3DKT2O55tggFXoSIriYXCHm4mKRA07tBdcYNpbsC9C6MJNT6oxrbx4MOaxCT0IEN7n89HUboiJr\nL3j7B1yTM1rrNJxSNT1qwHE1OhIieGyT+7xtiIqsveAVq7imSPM0tEXYaVJHCZG1F3y0F9d8Ptft\nfqBh9wZwCkzpsnh0JGv3J6qMEMGt0lrdQlRkBgSTo6m7wH9d5AZBV3SU5t5CVGQWBIugrG9IwCiA\nr3bQb9Fi6LGTkNVjtc6CPsIEp/u04BEVWV+Cb7blW4nrq+TNnMns147CBD8z4Wgeh6jI+hJczk8O\nS1whaXNMRkbUeqrp0EOY4CfE3jtK9CaYhHN/vhnSCn/6VnHvAL6U86GFMMGJCeK/GNeZ4HNhXaM7\nS6rUbbJVk4xkdPEdYYL9Hnr0edifwRxXpBZiD6jmi8hQzYUewgTn3UJUZN0JlkxK24yMtvr+DJaC\n5wgmx3Q/im59C1GRPUgwywgTnJOTk50SlCoqMgpmAhFv0SUvi4qMgplAhOADDnU3XIKCmUD4Z3Cr\nP40UFRkFM4Hgz+CcnDxx37yhYCYQJvhlCWcBKFgl6gpc3bktTPD0/uK/KUXB6rDy9S7/XFr/ZmGC\ng7wb/h38VKU+ye1qJpbe9d9WJEzw0VuI6hkFq4KtzvbuSfVux6lKnfPJZq75YUa921GwzjkTWU4q\no+u/hh4F6510/9d9t9e/mZLgHM+oXahDKAlu6liwHQUzgWzBDzXg8bq/gf0GFMwEsgUf94k9U1Ly\n2GGHW4dRMBPIf4s2J7VIw7doZqHxGXw6uM8jKJhRqAyyLMndSx2eRMFMoEAF8OqfbfTsKj0r7bk2\nzhi7R+skaKBABfBLg228HCE9K80xh22szQ/Zf/fxNv+wiB81zEc6OJPllL38fYZn+t95eCD6OqkM\nZ3I5F3ewWwFcU75J4ppq452H8bu4ZpMuF4NgtwK4phQYrYSkTLnzcNJPXJOWqGFCkmG3Ari2JBs/\nGRZzdy3J7B51pKaDdiuXyoDdCuAaU7gp556LDJcFdglaq10yMmC5AjhTVGqdgESwAjhwgFQA/ynC\nELlPxf70A4zz4DPhV8jlsPPqdagfYAhOTOOab+ap16F+gCF4En9d8M4P1OtQP8AQvHMg1/QTWVTC\nM4AhmCQGjQrQxzt0blzbaeUq9gdEMCk/VKFmd5LJDc6v3RimYrUmKIL1Qhy/VNH4bPU6RMHqEsXP\nb8/foF6HKFhdpqwnxBp5Tr0OUbC6XDdMWNhBzS+WUbDKWHM2OV6BqiAqCc6JCAkHcQ2b7lBH8GlD\nESkO1eU1TXpHHcFz+LuU0xKkB0Okoo7g6elckxkvPRgiFXUE7+1lIZY38ENYA1QaZH3iM9BXl1ed\n6h61TpNunBFX2hKhBJ4HAwcFAwcFAwcFAwcFAwcFAwcFAwcFAwcFAwcFAwcFAwcFAwcFAwcFAwcF\nAwcFAwcFAwcFAwcFAwcFAwcFAwcFy6DonfBeh7ROwg2eKLhoSxaVNRSqgzPNJ0JP0gilHB4oeKVx\nQbz/FQqBts7mmpzxFCIpiOcJrvCrI+SntylEWrqGawr7UIikIJ4neM97fBtMIdKhHlyzaAGFSAri\neYLze3FNaQyNULPazxvQ03EZVqbwPMGk0+emi+2+pxIqf+MBKnEUxAMFVyVG98nUOgnV8EDBngUF\nwWV8bQMzVh9lE9mCj71439+2EnLWYU8UzASyBftNNmU2y0XBrCJbcOMKQja1MqNgRpEtuGUqIdaO\n71MVXGmSfChih2zBOx5uU0xKXn2FnuCD/h2CBtZKPBixQ/4o+tK6SkJq1jnMuUsVXBdYTMjqadIO\nRuxRoED0baQKPjKCaywGaQcj9ihQILo0wYZ/tLSMjg/hmrowaQcj9igwk1WRYqNde2kZWUKPEev0\nRdIORuxhsEB0QafX/znD6n4/RAhYIBo4WCBaCjVbVp7SOgeBYIFoCVxuM3dNZ52srYoFoiXwdhY3\n8DAWa52GILBAtARC+CGgbZFz9gFSIFpdYvm6R7318SmMV3RIYG/gkaL53bTOQhgoWApHRvRZqpOv\nQ1AwcFAwcFAwcFAwcFAwcFAwcFAwcFAwcFAwcFAwcFAwcFAww1i/nri8WmYMFMwu1u7x2SuDK+QF\nQcHssoO/W2T9LHlBUDC7LNjANef6yQuCgtllx0Su2YivYLBYYmbvW9mmXF4QFMww5tSJy27IjIGC\ngYOCgYOCgYOCgYOCgYOCgYOCgaMbwdY1nWI3U43oGehGcPyE0kuD+JU7rNepxoWOXgRb/LnGzDXT\ngjsZ9HHjJhvoRXB5R741WNaOtJJyP33ce113U+sMiH4Ek8AyQgqjSO9C7v/zv6YaWhlqh7cJiszX\nOgv9CM5skzT7X4dJf/7e67lbqIZWhvc+I+RkoObLQelGMCnevOUaIZsGm0lRwFVSPj68826xIUwF\nVCqeCcNWuCfO9a9XBfQj+DYLDOFt95K68HRSFi2ytMZsn76vb1QkKWcE8y/efudV668edCf4FvtH\nc835HqKO2TzcSkyRqpUanLqce4vWfslNnQr+li8baDKKOmbIr1zzVbIi+TihdrivIfKsWr3Vi04F\nF4Vxn6YpU0UdM4YvYrVitTIJMYtOBZOVodPfbifuPDOnww1yMaBIoYRYRa+CybXMPLGHbIyM6Lhf\niVxYRreCEWGgYOCgYOCgYOpcHWrosE3rJO6CgmljMW4jFV0ditBoBQqmja1qTLnEiiT0QcG0yZpM\nWKr7hIJpU+5nImTzOK3TuAMKps7WsGnDO8q9Z4waDNZN0j0VWcfEHlL7RUKqs1/iH7Du2ij+ChGs\nm8QCNSGzv5/SwY1hU+ToxbHxYkNj3SQWSOa/xJzq5kKkpM+4pvcRkaGxbhILjDjMNTtmuN6p1yWu\nWbNcZGism8QCn3zBNYnrXO80JptrpqeJDI11k1igInDV8UVGN4XtfwvIrd5ocBjruAHrJjHBjblD\nl7jxS8iptyInV4qNzF4FcIQqClQAvxBr4/9ipWeFUEOBmSxzmY0VC6RlhFBFuZms9VilnQWUm8lC\nwUyg3EwWCmYC5WayUDATKDeThYKZQLmZLBTMBMrNZB3+Ryuelx9uTIk/P0grUiN6kWgFohjpr63u\n5VnXy13IuKLjNhnxskPcZtF6WpGGif5Cvj6CaQWiF6lYVGlyFOwaFIyC1Y6EglHwPaBg16BgFKx2\nJLUFH14lO8RttmTQijT/HK1IY2gFohfp2nQxe8sXjDANCgYOCgYOCgYOCgYOCgYOCgYOCgYOCgaO\nbMG5rzbpT6N0QVQenWA/tGzsd4xGJOuUJx70/5XOD5jH3zVAIVCgl5eXUVwkuYLrmi+7EOrmtkgB\npA/0yqMS7NLDKeWTXqQRKf2Z41fioqj8gGafBnR+U0/vOXu2SFwkuYLTXyBk13MygxCSOKxxHpVg\n69oQYrqvjEKk/P3W8vf7UfkBk2IbUPnhTI1sFQtERZIreHksIaUNKVSmaJZHJVhlMSGZ/2ulktY6\nr7+epZHT6RZnGlD54U41ifl7zwviIskVnBBHSK1Xhcwo5JZgKsGsm5ptoZRW1dhgCpEsIdtKGlD5\n4bJbfpvXx09cJLmCk7txf01/crt+jHt4wTSClXZqlUsl0m8F/OukRn6k5N6EF0zpN3X9/hJRkeQK\n/uElQnY/KzMIDy+YQrCa194300nro5GEnP+zWX6k7o80fcyraQ6FlPZncp/DD1wTFUn2KPrJ1Ovt\nxZVWcA4vmEKwdS3PcpgpRMr9r30lfbtRyKm0sPDw/YU1FFLa3SSzdEyouJTknwe3/Et/sctKOKNZ\nHpVg4714SmikteJF724ldH5A/i2aQiDrp8892umSuEg4kwUcFAwcFAwcFAwcFAwcFAwcFAwcFAwc\nFAwcFAwcFAwcFAwcFAwcFAwcFAwcFAwcFAwcFAwcFAwcFAwcjxPcKvWeB9e8NctDLVAwcDxQcJ5f\n4pP/s5OQ+U89NYcTnPVKY+MFstLfan7VTXVQXeKJgh+aVTXeh2Q9lnnB4E1Km24pGxZMrP5rFnbR\nOjcl8ETBj9aRoy3IyH8TssebrOS0Vjc2k6NPP3NB69yUwBMFP09IXgvSfRkhl73J9EeaN2/e5BIh\nBlFrfOoGTxTcwiZ4NPcKzvYmyzsTYs61koz/b3ZQ69yUwHMF73ks62JYE3L58bSSsX6k5oWsVb4U\n7oJlDs8VTBY81WxFM0K+f6lxyBkyrTextFmpdXIK4HGCPQ0UDBwUDBwUDBwUDBwUDBwUDBwUDBwU\nDBwUDBwUDBwUDBwUDBwUDBwUDBwUDBwUDBwUDBwUDJz/AN/5i3RL1rPhAAAAAElFTkSuQmCC\n"
              }
             ],
             "prompt_number": 5
            },
            {
             "cell_type": "code",
             "collapsed": false,
             "input": "",
             "language": "python",
             "metadata": {},
             "outputs": []
            }
           ],
           "metadata": {},
           "most_recent": true
          }
         ],
         "metadata": {}
        },
        {
         "cell_type": "code",
         "collapsed": false,
         "input": "",
         "language": "python",
         "metadata": {},
         "outputs": []
        }
       ],
       "metadata": {},
       "most_recent": false
      }
     ],
     "metadata": {}
    },
    {
     "cell_type": "markdown",
     "metadata": {},
     "source": [
      "some more stuff"
     ]
    },
    {
     "cell_type": "code",
     "collapsed": false,
     "input": [
      "%%R\n",
      "x = 5; y = 10\n",
      "x+y"
     ],
     "language": "python",
     "metadata": {},
     "outputs": [
      {
       "metadata": {},
       "output_type": "display_data",
       "text": [
        "[1] 15\n"
       ]
      }
     ],
     "prompt_number": 8
    },
    {
     "cell_type": "altset",
     "cells": [
      {
       "cell_type": "alt",
       "cells": [
        {
         "cell_type": "markdown",
         "metadata": {},
         "source": "Hello again from set2branch1"
        }
       ],
       "metadata": {},
       "most_recent": true
      },
      {
       "cell_type": "alt",
       "cells": [
        {
         "cell_type": "markdown",
         "metadata": {},
         "source": "I'm in set2branch2"
        }
       ],
       "metadata": {},
       "most_recent": false
      }
     ],
     "metadata": {}
    },
    {
     "cell_type": "code",
     "collapsed": false,
     "input": [],
     "language": "python",
     "metadata": {},
     "outputs": []
    }
   ],
   "metadata": {}
  }
 ]
}